{
  "nbformat": 4,
  "nbformat_minor": 0,
  "metadata": {
    "colab": {
      "provenance": [],
      "authorship_tag": "ABX9TyPq1tScWfGSzh271E6TLr/O",
      "include_colab_link": true
    },
    "kernelspec": {
      "name": "python3",
      "display_name": "Python 3"
    },
    "language_info": {
      "name": "python"
    }
  },
  "cells": [
    {
      "cell_type": "markdown",
      "metadata": {
        "id": "view-in-github",
        "colab_type": "text"
      },
      "source": [
        "<a href=\"https://colab.research.google.com/github/gastom20032003/3rocfp10/blob/main/TP_2_G.ipynb\" target=\"_parent\"><img src=\"https://colab.research.google.com/assets/colab-badge.svg\" alt=\"Open In Colab\"/></a>"
      ]
    },
    {
      "cell_type": "markdown",
      "source": [
        "EJERCICO 1\n",
        "\n",
        "utiliza las funciones de contatenar + y repetir strings, *,junto con la funcion print () para dados los siguientes s1,s2,s3 y s4conseguir el resultadosiguiente: habia una vez ,un barquito chiquito habia una vez ,un barquito chiquito que no podia, que no podia, que no podia navegar"
      ],
      "metadata": {
        "id": "wPeis1tEhMB3"
      }
    },
    {
      "cell_type": "code",
      "source": [
        "s1 = \"habia una vez, \"\n",
        "s2 = \"un barquito chiquito \"\n",
        "s3 = \"que no podia, \"\n",
        "s4 = \"que no podianavegar.\""
      ],
      "metadata": {
        "id": "HnM3QK2MjuLB"
      },
      "execution_count": null,
      "outputs": []
    },
    {
      "cell_type": "code",
      "source": [
        "(s1 + s2 + s1 + s2 +s3 *2 +s4)"
      ],
      "metadata": {
        "colab": {
          "base_uri": "https://localhost:8080/",
          "height": 53
        },
        "id": "GoWewpUjsVLP",
        "outputId": "d9bafb36-9787-41f0-951a-76721e0c7761"
      },
      "execution_count": null,
      "outputs": [
        {
          "output_type": "execute_result",
          "data": {
            "text/plain": [
              "'habia una vez,un barquito chiquitohabia una vez,un barquito chiquitoque no podia,que no podia,que no podianavegar.'"
            ],
            "application/vnd.google.colaboratory.intrinsic+json": {
              "type": "string"
            }
          },
          "metadata": {},
          "execution_count": 15
        }
      ]
    },
    {
      "cell_type": "markdown",
      "source": [
        "ejercico 2\n",
        "utiliza la funcion print () y el comando de salto de linea \\n, para reproducir exactamente el siguiente texto:"
      ],
      "metadata": {
        "id": "phVoDW-ZkSmq"
      }
    },
    {
      "cell_type": "markdown",
      "source": [
        "Erase un hombre a una nariz pegado,\n",
        "Erase una nariz superlativa,\n",
        "Erase una alquitara medio viva,\n",
        "Erase un peje espada mal barbado\n"
      ],
      "metadata": {
        "id": "fWoQ-tvap_3n"
      }
    },
    {
      "cell_type": "code",
      "source": [
        "print( \"\\nErase un hombre a una nariz pegado, \\nErase una nariz superlativa, \\nErase una alquitara medio viva \\nErase un peje espada mal barbado\" )"
      ],
      "metadata": {
        "colab": {
          "base_uri": "https://localhost:8080/"
        },
        "id": "Hpa6CHbLqBPq",
        "outputId": "9ac23fb0-03db-4581-d829-5c0c8b0311cf"
      },
      "execution_count": null,
      "outputs": [
        {
          "output_type": "stream",
          "name": "stdout",
          "text": [
            "\n",
            "Erase un hombre a una nariz pegado, \n",
            "Erase una nariz superlativa, \n",
            "Erase una alquitara medio viva \n",
            "Erase un peje espada mal barbado\n"
          ]
        }
      ]
    },
    {
      "cell_type": "markdown",
      "source": [
        "EJERCICO 3\n",
        "\n",
        "transforma el siguiente strings s a mayusculas y muestralo por pantalla con la funcion print():\n"
      ],
      "metadata": {
        "id": "C-BIHrF7r_es"
      }
    },
    {
      "cell_type": "code",
      "source": [
        "s= \"me encantan las matematicas\""
      ],
      "metadata": {
        "id": "hFchD6Jjvmf7"
      },
      "execution_count": null,
      "outputs": []
    },
    {
      "cell_type": "code",
      "source": [
        "print(s.upper())"
      ],
      "metadata": {
        "colab": {
          "base_uri": "https://localhost:8080/"
        },
        "id": "IDFVvMk_wZlO",
        "outputId": "24627444-2ce9-4052-dcfa-84d23ad1b181"
      },
      "execution_count": null,
      "outputs": [
        {
          "output_type": "stream",
          "name": "stdout",
          "text": [
            "ME ENCANTAN LAS MATEMATICAS\n"
          ]
        }
      ]
    },
    {
      "cell_type": "markdown",
      "source": [
        "Ejercicio 4\n",
        "\n",
        "Calcula longitud del strin s\n"
      ],
      "metadata": {
        "id": "HD6JJ3G9xNHG"
      }
    },
    {
      "cell_type": "code",
      "source": [
        "s = \"Mi pasión por el chocolate se superior a mis fuerzas\""
      ],
      "metadata": {
        "id": "TQJvAC9OpCYo"
      },
      "execution_count": null,
      "outputs": []
    },
    {
      "cell_type": "code",
      "source": [],
      "metadata": {
        "id": "jR2sOKSlpO7F"
      },
      "execution_count": null,
      "outputs": []
    },
    {
      "cell_type": "markdown",
      "source": [
        "#Ejercicio 5\n",
        "\n",
        "Del strign a del ejercicio anterior, obtén el subtring chocolate y guárdalo en una variable llamado a s_sub.\n",
        "No vale contar, deberás hallar los indices del substring con el método .find() (o el que mejor consideres) y la función len().\n",
        "\n",
        "Finalmente, imprime tu resultado por pantalla."
      ],
      "metadata": {
        "id": "m_dcw57bpPNf"
      }
    },
    {
      "cell_type": "code",
      "source": [],
      "metadata": {
        "id": "FDaJ_ez6sFio"
      },
      "execution_count": null,
      "outputs": []
    },
    {
      "cell_type": "markdown",
      "source": [
        "#Ejercicio 6\n",
        "\n",
        "Con la función input(). indicale al usuario que introduzca su nombre en la variable llamada nombre."
      ],
      "metadata": {
        "id": "8Kp_URJTsHEH"
      }
    },
    {
      "cell_type": "code",
      "source": [
        "print(\"introduzca su nombre mi estimado compañero:\")\n",
        "nombre = input(\"nombre: \")"
      ],
      "metadata": {
        "colab": {
          "base_uri": "https://localhost:8080/"
        },
        "id": "g9hsz9-7s5q3",
        "outputId": "afbf01e1-fdba-4b19-d618-cd15909326d2"
      },
      "execution_count": 3,
      "outputs": [
        {
          "name": "stdout",
          "output_type": "stream",
          "text": [
            "introduzca su nombre mi estimado compañero:\n",
            "nombre:Gasti\n"
          ]
        }
      ]
    },
    {
      "cell_type": "markdown",
      "source": [
        "#Ejercicio 7\n",
        "\n",
        "Con la función input(), indicar al usuario que introduzca su apellido y guardarlo en la variable llamada apellido"
      ],
      "metadata": {
        "id": "8FjUpQmPtzhX"
      }
    },
    {
      "cell_type": "code",
      "source": [
        "print(\"pone tu apellido pibe daleeee\")\n",
        "apellido = input(\"apellido: \")"
      ],
      "metadata": {
        "colab": {
          "base_uri": "https://localhost:8080/"
        },
        "id": "jU_vdXW_tsJo",
        "outputId": "69214f38-f8ed-4340-b06e-af11a7d0e25b"
      },
      "execution_count": 4,
      "outputs": [
        {
          "name": "stdout",
          "output_type": "stream",
          "text": [
            "pone tu apellido pibe daleeee\n",
            "apellido: Carrascal \n"
          ]
        }
      ]
    },
    {
      "cell_type": "markdown",
      "source": [
        "#Ejercicio 8\n",
        "\n",
        "Con la función input(), indicale al usuario que introduzca su apellido y guardarlo en la variable llamada edad ¡Ojo con el tipó edad!"
      ],
      "metadata": {
        "id": "nKIfpsmWu6yk"
      }
    },
    {
      "cell_type": "code",
      "source": [
        "print(\"cuantos años tenes flaco?\")\n",
        "edad = int(input(\"edad: \"))"
      ],
      "metadata": {
        "colab": {
          "base_uri": "https://localhost:8080/"
        },
        "id": "akXV-NLvu4BQ",
        "outputId": "6d8df293-bbfd-4274-d841-1d096cb8168b"
      },
      "execution_count": 5,
      "outputs": [
        {
          "name": "stdout",
          "output_type": "stream",
          "text": [
            "cuantos años tenes flaco?\n",
            "edad: 19\n"
          ]
        }
      ]
    },
    {
      "cell_type": "markdown",
      "source": [
        "#Ejercico 9\n",
        "\n",
        "Con la función input(), indicale al usuario que introduzca la ciudad en el que vive y guardalo en la variable ciudad."
      ],
      "metadata": {
        "id": "SxvbWLdFxc_J"
      }
    },
    {
      "cell_type": "code",
      "source": [
        "print(\"De que barrio sos pibe?\")\n",
        "ciudad = input(\"pone tu barrio: \")"
      ],
      "metadata": {
        "colab": {
          "base_uri": "https://localhost:8080/"
        },
        "id": "14OlKmw6xaqX",
        "outputId": "194d9b77-d555-4e1b-e616-4808c433bb50"
      },
      "execution_count": 6,
      "outputs": [
        {
          "name": "stdout",
          "output_type": "stream",
          "text": [
            "De que barrio sos pibe?\n",
            "pone tu barrio: San Cristobal\n"
          ]
        }
      ]
    },
    {
      "cell_type": "markdown",
      "source": [
        "#Ejercicio 10\n",
        "\n",
        "Con lo hecho en los ejercicios 6,7,8 y 10, imprime por pantalla todos los datos introduce por el usuario tal y com se muestra en el siguiente ejemplo, donde el usuario ha indicado que su nombre es Maria, su apellido, Santos, su edad, 21 años y actualmente vive en Palma de Mallorca."
      ],
      "metadata": {
        "id": "EDNWFIZYzEvP"
      }
    },
    {
      "cell_type": "code",
      "source": [
        "print(\"El pibe se llama {},de apellido {}, tiene {} años y vive en {} \" .format(nombre, apellido, edad, ciudad))"
      ],
      "metadata": {
        "colab": {
          "base_uri": "https://localhost:8080/"
        },
        "id": "5tD_s5E_y7wO",
        "outputId": "5634c1a2-cb64-4ee0-ebda-2237d346785b"
      },
      "execution_count": 8,
      "outputs": [
        {
          "output_type": "stream",
          "name": "stdout",
          "text": [
            "El pibe se llama Gasti,de apellido Carrascal , tiene 19 años y vive en San Cristobal \n"
          ]
        }
      ]
    }
  ]
}