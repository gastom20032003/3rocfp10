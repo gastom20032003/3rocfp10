{
  "nbformat": 4,
  "nbformat_minor": 0,
  "metadata": {
    "colab": {
      "provenance": [],
      "authorship_tag": "ABX9TyNqzytuRJDFw+Dr5JE9gzlg",
      "include_colab_link": true
    },
    "kernelspec": {
      "name": "python3",
      "display_name": "Python 3"
    },
    "language_info": {
      "name": "python"
    }
  },
  "cells": [
    {
      "cell_type": "markdown",
      "metadata": {
        "id": "view-in-github",
        "colab_type": "text"
      },
      "source": [
        "<a href=\"https://colab.research.google.com/github/gastom20032003/3rocfp10/blob/main/TP_2_G.ipynb\" target=\"_parent\"><img src=\"https://colab.research.google.com/assets/colab-badge.svg\" alt=\"Open In Colab\"/></a>"
      ]
    },
    {
      "cell_type": "markdown",
      "source": [
        "EJERCICO 1\n",
        "\n",
        "utiliza las funciones de contatenar + y repetir strings, *,junto con la funcion print () para dados los siguientes s1,s2,s3 y s4conseguir el resultadosiguiente: habia una vez ,un barquito chiquito habia una vez ,un barquito chiquito que no podia, que no podia, que no podia navegar"
      ],
      "metadata": {
        "id": "wPeis1tEhMB3"
      }
    },
    {
      "cell_type": "code",
      "source": [
        "s1 = \"habia una vez,\"\n",
        "s2 = \"un barquito chiquito\"\n",
        "s3 = \"que no podia,\"\n",
        "s4 = \"que no podianavegar.\""
      ],
      "metadata": {
        "id": "HnM3QK2MjuLB"
      },
      "execution_count": 7,
      "outputs": []
    },
    {
      "cell_type": "code",
      "source": [
        "(s1 + s2 + s1 + s2 +s3 *2 +s4)"
      ],
      "metadata": {
        "colab": {
          "base_uri": "https://localhost:8080/",
          "height": 53
        },
        "id": "GoWewpUjsVLP",
        "outputId": "d9bafb36-9787-41f0-951a-76721e0c7761"
      },
      "execution_count": 15,
      "outputs": [
        {
          "output_type": "execute_result",
          "data": {
            "text/plain": [
              "'habia una vez,un barquito chiquitohabia una vez,un barquito chiquitoque no podia,que no podia,que no podianavegar.'"
            ],
            "application/vnd.google.colaboratory.intrinsic+json": {
              "type": "string"
            }
          },
          "metadata": {},
          "execution_count": 15
        }
      ]
    },
    {
      "cell_type": "markdown",
      "source": [
        "ejercico 2\n",
        "utiliza la funcion print () y el comando de salto de linea \\n, para reproducir exactamente el siguiente texto:"
      ],
      "metadata": {
        "id": "phVoDW-ZkSmq"
      }
    },
    {
      "cell_type": "markdown",
      "source": [
        "Erase un hombre a una nariz pegado,\n",
        "Erase una nariz superlativa,\n",
        "Erase una alquitara medio viva,\n",
        "Erase un peje espada mal barbado\n"
      ],
      "metadata": {
        "id": "fWoQ-tvap_3n"
      }
    },
    {
      "cell_type": "code",
      "source": [
        "print( \"\\nErase un hombre a una nariz pegado, \\nErase una nariz superlativa, \\nErase una alquitara medio viva \\nErase un peje espada mal barbado\" )"
      ],
      "metadata": {
        "colab": {
          "base_uri": "https://localhost:8080/"
        },
        "id": "Hpa6CHbLqBPq",
        "outputId": "9ac23fb0-03db-4581-d829-5c0c8b0311cf"
      },
      "execution_count": 12,
      "outputs": [
        {
          "output_type": "stream",
          "name": "stdout",
          "text": [
            "\n",
            "Erase un hombre a una nariz pegado, \n",
            "Erase una nariz superlativa, \n",
            "Erase una alquitara medio viva \n",
            "Erase un peje espada mal barbado\n"
          ]
        }
      ]
    },
    {
      "cell_type": "markdown",
      "source": [
        "EJERCICO 3\n",
        "\n",
        "transforma el siguiente strings s a mayusculas y muestralo por pantalla con la funcion print():\n"
      ],
      "metadata": {
        "id": "C-BIHrF7r_es"
      }
    },
    {
      "cell_type": "code",
      "source": [
        "s= \"me encantan las matematicas\""
      ],
      "metadata": {
        "id": "hFchD6Jjvmf7"
      },
      "execution_count": 28,
      "outputs": []
    },
    {
      "cell_type": "code",
      "source": [
        "print(s.upper())"
      ],
      "metadata": {
        "colab": {
          "base_uri": "https://localhost:8080/"
        },
        "id": "IDFVvMk_wZlO",
        "outputId": "24627444-2ce9-4052-dcfa-84d23ad1b181"
      },
      "execution_count": 29,
      "outputs": [
        {
          "output_type": "stream",
          "name": "stdout",
          "text": [
            "ME ENCANTAN LAS MATEMATICAS\n"
          ]
        }
      ]
    },
    {
      "cell_type": "markdown",
      "source": [
        "EJERCICIO"
      ],
      "metadata": {
        "id": "HD6JJ3G9xNHG"
      }
    }
  ]
}