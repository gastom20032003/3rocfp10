{
  "nbformat": 4,
  "nbformat_minor": 0,
  "metadata": {
    "colab": {
      "provenance": [],
      "authorship_tag": "ABX9TyN/xx0z5bfKo4Rr8RkDO9J+",
      "include_colab_link": true
    },
    "kernelspec": {
      "name": "python3",
      "display_name": "Python 3"
    },
    "language_info": {
      "name": "python"
    }
  },
  "cells": [
    {
      "cell_type": "markdown",
      "metadata": {
        "id": "view-in-github",
        "colab_type": "text"
      },
      "source": [
        "<a href=\"https://colab.research.google.com/github/gastom20032003/3rocfp10/blob/main/tp_1_phyton_gasti.ipynb\" target=\"_parent\"><img src=\"https://colab.research.google.com/assets/colab-badge.svg\" alt=\"Open In Colab\"/></a>"
      ]
    },
    {
      "cell_type": "markdown",
      "source": [
        "TAREA 1-NUMEROS EN PYTHON\n",
        "\n",
        "curso de python"
      ],
      "metadata": {
        "id": "V9uzV6g8-U96"
      }
    },
    {
      "cell_type": "code",
      "source": [],
      "metadata": {
        "id": "njTkvL5rCedE"
      },
      "execution_count": null,
      "outputs": []
    },
    {
      "cell_type": "markdown",
      "source": [
        "EJERCICIO 1\n",
        "calculala division entera de 45 entre 6"
      ],
      "metadata": {
        "id": "EGA2XbBA-pnh"
      }
    },
    {
      "cell_type": "code",
      "source": [
        "45/6"
      ],
      "metadata": {
        "colab": {
          "base_uri": "https://localhost:8080/"
        },
        "id": "8E7gBq77Ch_X",
        "outputId": "8c6e3451-e289-41eb-ae04-700a943697cb"
      },
      "execution_count": null,
      "outputs": [
        {
          "output_type": "execute_result",
          "data": {
            "text/plain": [
              "7.5"
            ]
          },
          "metadata": {},
          "execution_count": 10
        }
      ]
    },
    {
      "cell_type": "markdown",
      "source": [
        "EJERCICO 2\n",
        "calcula el resto de la division entera de 45 entre 6"
      ],
      "metadata": {
        "id": "YeUYp-Av_KjB"
      }
    },
    {
      "cell_type": "code",
      "source": [
        "45 % 6"
      ],
      "metadata": {
        "colab": {
          "base_uri": "https://localhost:8080/"
        },
        "id": "wb4rksn6ETaB",
        "outputId": "11404f0d-9f95-4dcc-de7c-8a47973a0399"
      },
      "execution_count": null,
      "outputs": [
        {
          "output_type": "execute_result",
          "data": {
            "text/plain": [
              "3"
            ]
          },
          "metadata": {},
          "execution_count": 12
        }
      ]
    },
    {
      "cell_type": "markdown",
      "source": [
        "EJERCICIO 3\n",
        "realiza la siguiente operacion en python ,donde % indica la division entera:"
      ],
      "metadata": {
        "id": "qnvGqoaI_LMw"
      }
    },
    {
      "cell_type": "code",
      "source": [
        "10 + 20 / 7 - 2"
      ],
      "metadata": {
        "colab": {
          "base_uri": "https://localhost:8080/"
        },
        "id": "zP7AL2CfEi-f",
        "outputId": "19a7e5e4-148f-4c6e-9b46-de52772de2e4"
      },
      "execution_count": null,
      "outputs": [
        {
          "output_type": "execute_result",
          "data": {
            "text/plain": [
              "10.857142857142858"
            ]
          },
          "metadata": {},
          "execution_count": 13
        }
      ]
    },
    {
      "cell_type": "markdown",
      "source": [
        "EJERCICIO 4\n",
        "realiza la siguiente operacion python:"
      ],
      "metadata": {
        "id": "xgEQ4PGp_VqS"
      }
    },
    {
      "cell_type": "code",
      "source": [
        "9 - 25 + 5 - 2 / 7 * 4 / 2 ** 3"
      ],
      "metadata": {
        "colab": {
          "base_uri": "https://localhost:8080/"
        },
        "id": "u8jUu9AbGoaa",
        "outputId": "9bac89e9-8bec-445b-9d1f-ece739e13017"
      },
      "execution_count": null,
      "outputs": [
        {
          "output_type": "execute_result",
          "data": {
            "text/plain": [
              "-11.142857142857142"
            ]
          },
          "metadata": {},
          "execution_count": 14
        }
      ]
    },
    {
      "cell_type": "markdown",
      "source": [
        "EJERCICIO 5 realiza la siguiente operacion python:"
      ],
      "metadata": {
        "id": "72CgFWfD_WIf"
      }
    },
    {
      "cell_type": "code",
      "source": [
        "2 + 2 ** 3 - 2  * (2 - 2 ** 2) + 2 ** 2 * 2 + 2 / 2 * (2 * 2 - 2 ** 4) + 2 ** 2"
      ],
      "metadata": {
        "colab": {
          "base_uri": "https://localhost:8080/"
        },
        "id": "mIQ4TzwrIghz",
        "outputId": "a6378a17-3b22-4d30-8c98-6980f73f8ec2"
      },
      "execution_count": null,
      "outputs": [
        {
          "output_type": "execute_result",
          "data": {
            "text/plain": [
              "14.0"
            ]
          },
          "metadata": {},
          "execution_count": 15
        }
      ]
    },
    {
      "cell_type": "markdown",
      "source": [
        "EJERCICIO 6 realiza la siguiente operacion python:"
      ],
      "metadata": {
        "id": "fLzI0p8nA3xq"
      }
    },
    {
      "cell_type": "markdown",
      "source": [
        "EJERCICIO 7 realiza la siguiente operacion python:"
      ],
      "metadata": {
        "id": "KYuun4pkA4J6"
      }
    },
    {
      "cell_type": "markdown",
      "source": [
        "EJERCICIO 8 realiza la siguiente operacion python:"
      ],
      "metadata": {
        "id": "KkPgO0eHA4ne"
      }
    },
    {
      "cell_type": "markdown",
      "source": [
        "EJERCICIO 9\n",
        " realiza la siguiente operacion python,donde mod(z) indica modulo del complejo z:"
      ],
      "metadata": {
        "id": "U3OZQIrdBsrQ"
      }
    },
    {
      "cell_type": "markdown",
      "source": [
        "EJERCICIO 10\n",
        "¿CUAL ES EL argumento del numero complejo i?:\n",
        "\n"
      ],
      "metadata": {
        "id": "jPVTs8BBBeVJ"
      }
    },
    {
      "cell_type": "code",
      "source": [],
      "metadata": {
        "id": "hVLpmy8hCMCp"
      },
      "execution_count": null,
      "outputs": []
    }
  ]
}