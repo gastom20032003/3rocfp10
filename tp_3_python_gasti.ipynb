{
  "nbformat": 4,
  "nbformat_minor": 0,
  "metadata": {
    "colab": {
      "provenance": [],
      "authorship_tag": "ABX9TyM4wZfCpaP+TdUd8EeHYIBX",
      "include_colab_link": true
    },
    "kernelspec": {
      "name": "python3",
      "display_name": "Python 3"
    },
    "language_info": {
      "name": "python"
    }
  },
  "cells": [
    {
      "cell_type": "markdown",
      "metadata": {
        "id": "view-in-github",
        "colab_type": "text"
      },
      "source": [
        "<a href=\"https://colab.research.google.com/github/gastom20032003/3rocfp10/blob/main/tp_3_python_gasti.ipynb\" target=\"_parent\"><img src=\"https://colab.research.google.com/assets/colab-badge.svg\" alt=\"Open In Colab\"/></a>"
      ]
    },
    {
      "cell_type": "markdown",
      "source": [
        "tp 3\n",
        "EJERCICIOS\n",
        "\n",
        "\n",
        "EJERCICIO 1\n",
        "\n",
        "\n",
        "Reescribe el programa del cálculo del salario para darle al empleado 1.5 veces la tarifa horaria para todas las horas trabajadas que excedan de 40."
      ],
      "metadata": {
        "id": "OvcGvWmYtNor"
      }
    },
    {
      "cell_type": "code",
      "source": [
        "x=5\n",
        "print(\"antes de 5\")\n",
        "if x==5:\n",
        "  print(\"es 5\")\n",
        "  print(\"sigue siendo 5\")\n",
        "  print(\"tercer 5\")\n",
        "print(\"despues de 5\")\n",
        "print(\"antes de 6\")\n",
        "if x==6:\n",
        "  print(\"es 6\")\n",
        "  print(\"sigue siendo 6\")\n",
        "  print(\"tercer 6\")\n",
        "print(\"despues de 6\")\n"
      ],
      "metadata": {
        "colab": {
          "base_uri": "https://localhost:8080/"
        },
        "id": "ZGEedibEyPms",
        "outputId": "0be19258-b14a-42bb-9494-fc4617c271a7"
      },
      "execution_count": null,
      "outputs": [
        {
          "output_type": "stream",
          "name": "stdout",
          "text": [
            "antes de 5\n",
            "es 5\n",
            "sigue siendo 5\n",
            "tercer 5\n",
            "despues de 5\n",
            "antes de 6\n",
            "despues de 6\n"
          ]
        }
      ]
    },
    {
      "cell_type": "code",
      "source": [
        "x=5\n",
        "if x>2:\n",
        "  print(\"mayor que 2\")\n",
        "  print(\"sigue siendo mayor\")\n",
        "print(\"terminado con 2\")\n",
        "for i in range(5) :\n",
        "  print(i)\n",
        "  if i>2:\n",
        "    print(\"mayor que 2\")\n",
        "  print(\"terminado con i\", i)\n",
        "print(\"todo terminado\")"
      ],
      "metadata": {
        "colab": {
          "base_uri": "https://localhost:8080/"
        },
        "id": "mfhWWAUdyeRl",
        "outputId": "deaaae6f-a563-48fe-f798-27698d64c828"
      },
      "execution_count": null,
      "outputs": [
        {
          "output_type": "stream",
          "name": "stdout",
          "text": [
            "mayor que 2\n",
            "sigue siendo mayor\n",
            "terminado con 2\n",
            "0\n",
            "terminado con i 0\n",
            "1\n",
            "terminado con i 1\n",
            "2\n",
            "terminado con i 2\n",
            "3\n",
            "mayor que 2\n",
            "terminado con i 3\n",
            "4\n",
            "mayor que 2\n",
            "terminado con i 4\n",
            "todo terminado\n"
          ]
        }
      ]
    },
    {
      "cell_type": "code",
      "source": [
        "tarifa =float(input(\"ingrese la tarifa (solo números uwu): \"))\n",
        "horas = int (input(\"ingrese la cantidad de horas trabajadas (lo mismo pibe, pone solo números eh:) \"))\n",
        "if horas >40:\n",
        "  extras = horas-40\n",
        "  salario = 40 * tarifa + extras * 1.5 * tarifa\n",
        "else:\n",
        "  salario= tarifa * horas\n",
        "print(\"el salario es: \" ,salario,)"
      ],
      "metadata": {
        "colab": {
          "base_uri": "https://localhost:8080/"
        },
        "id": "6yerSCp3xO-7",
        "outputId": "32770462-7a92-4b74-ae6a-dce64e0d648a"
      },
      "execution_count": null,
      "outputs": [
        {
          "output_type": "stream",
          "name": "stdout",
          "text": [
            "ingrese la tarifa (solo números uwu): 1000\n",
            "ingrese la cantidad de horas trabajadas (lo mismo pibe, pone solo números eh:) 45\n",
            "el salario es:  47500.0\n"
          ]
        }
      ]
    },
    {
      "cell_type": "markdown",
      "source": [
        "EJERCICIO 2\n",
        "\n",
        "Reescribe el programa del salario usando try y except, de modo que el programa sea capaz de gestionar entradas no numéricas con elegancia, mostrando un mensaje y saliendo del programa. A continuación se muestran dos ejecuciones del programa:"
      ],
      "metadata": {
        "id": "R3Kk-CyFtOBs"
      }
    },
    {
      "cell_type": "code",
      "source": [
        "tarifa = input(\"ingrese la tarifa (solo números pibe): \")\n",
        "horas = input(\"ingrese la cantidad de horas trabajadas (lo mismo pibe, pone solo númers eh:) \")\n",
        "try:\n",
        "  tarifa = float(tarifa)\n",
        "  horas = int(horas)\n",
        "  if horas > 40:\n",
        "    extras = horas - 40\n",
        "    salario = tarifa * 1.5 * extras + 40 * tarifa\n",
        "  else:\n",
        "    salario = tarifa * horas\n",
        "  print(\"el salario seria de:\", salario,\"$\")\n",
        "except:\n",
        "  print(\"hacelo bien mamahuevo\")"
      ],
      "metadata": {
        "colab": {
          "base_uri": "https://localhost:8080/"
        },
        "id": "JPFMam-tNxse",
        "outputId": "fecf6914-09fb-452f-eadb-f49c2d4c6d28"
      },
      "execution_count": null,
      "outputs": [
        {
          "output_type": "stream",
          "name": "stdout",
          "text": [
            "ingrese la tarifa (solo números pibe): 500\n",
            "ingrese la cantidad de horas trabajadas (lo mismo pibe, pone solo númers eh:) 5\n",
            "el salario seria de: 2500.0 $\n"
          ]
        }
      ]
    },
    {
      "cell_type": "markdown",
      "source": [
        "EJERCICIO 3\n",
        "\n",
        "Escribe un programa que solicite una puntuación entre 0.0 y 1.0. Si la puntuación está fuera de ese rango, muestra un mensaje de error. Si la puntuación está entre 0.0 y 1.0, muestra la calificación usando la tabla siguiente:\n",
        "\n",
        "PUNTUACION CALIFICACION\n",
        "\n",
        "\n",
        ">= 0.9 Sobresaliente\n",
        "\n",
        ">= 0.8 Notable\n",
        "\n",
        ">= 0.7 Bien\n",
        "\n",
        ">= 0.6 Suficiente\n",
        "\n",
        "< 0.6 Insuficiente\n",
        "\n",
        "Introduzca puntuación: 0.95 Sobresaliente\n",
        "\n",
        "Introduzca puntuación: perfecto Puntuación incorrecta\n",
        "\n",
        "Introduzca puntuación: 10.0 Puntuación incorrecta\n",
        "\n",
        "Introduzca puntuación: 0.75 Bien\n",
        "\n",
        "Introduzca puntuación: 0.5 Insuficiente\n",
        "\n",
        "Ejecuta el programa repetidamente, como se muestra arriba, para probar con varios valores de entrada diferentes.\n"
      ],
      "metadata": {
        "id": "uMzkFfZWtOjT"
      }
    },
    {
      "cell_type": "code",
      "source": [
        "input(\"Introduzca la puntuacion\")\n",
        "try:\n",
        "  Puntuacion=float(\"Puntuacion\")\n",
        "  if (Puntuacion <0.6):\n",
        "    print(\"Nota final:Insuficiente\")\n",
        "  elif (Puntuacion <0.7 and Puntuacion >=0.6):\n",
        "    print(\"Nota final:Suficiente\")\n",
        "  elif (Puntuacion <0.8 and Puntuacion >=0.7):\n",
        "    print(\"Nota final:Bien\")\n",
        "  elif (Puntuacion <0.9 and Puntuacion >=0.8):\n",
        "    print(\"Nota final:Notable\")\n",
        "  else:\n",
        "    (Puntuacion <1.0 and Puntuacion >=0.9)\n",
        "    print(\"Nota final:Sobresaliente\")\n",
        "except:\n",
        "  print(\"Poner numeros entre 0.0 y 1.0 crack\")"
      ],
      "metadata": {
        "colab": {
          "base_uri": "https://localhost:8080/"
        },
        "id": "L3ROh6mfUouD",
        "outputId": "89e750c3-e46a-4ef8-b761-0a2ecf68c39a"
      },
      "execution_count": null,
      "outputs": [
        {
          "output_type": "stream",
          "name": "stdout",
          "text": [
            "Poner numeros entre 0.0 y 1.0 crack\n"
          ]
        }
      ]
    }
  ]
}