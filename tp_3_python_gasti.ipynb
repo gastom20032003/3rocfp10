{
  "nbformat": 4,
  "nbformat_minor": 0,
  "metadata": {
    "colab": {
      "provenance": [],
      "authorship_tag": "ABX9TyMjc/85XFNgIpq0pmmM2/QL",
      "include_colab_link": true
    },
    "kernelspec": {
      "name": "python3",
      "display_name": "Python 3"
    },
    "language_info": {
      "name": "python"
    }
  },
  "cells": [
    {
      "cell_type": "markdown",
      "metadata": {
        "id": "view-in-github",
        "colab_type": "text"
      },
      "source": [
        "<a href=\"https://colab.research.google.com/github/gastom20032003/3rocfp10/blob/main/tp_3_python_gasti.ipynb\" target=\"_parent\"><img src=\"https://colab.research.google.com/assets/colab-badge.svg\" alt=\"Open In Colab\"/></a>"
      ]
    },
    {
      "cell_type": "markdown",
      "source": [
        "tp 3\n",
        "EJERCICIOS\n",
        "\n",
        "\n",
        "EJERCICIO 1\n",
        "\n",
        "\n",
        "Reescribe el programa del cálculo del salario para darle al empleado 1.5 veces la tarifa horaria para todas las horas trabajadas que excedan de 40."
      ],
      "metadata": {
        "id": "OvcGvWmYtNor"
      }
    },
    {
      "cell_type": "code",
      "source": [
        "tarifa =float(input(\"ingrese la tarifa (solo números uwu): \"))\n",
        "horas = int (input(\"ingrese la cantidad de horas trabajadas (lo mismo pibe, pone solo números eh:) \"))\n",
        "if horas >40:\n",
        "  extras = horas-40\n",
        "  salario = 40 * tarifa + extras * 1.5 * tarifa\n",
        "else:\n",
        "  salario= tarifa * horas\n",
        "print(\"el salario es: \" ,salario,)"
      ],
      "metadata": {
        "colab": {
          "base_uri": "https://localhost:8080/"
        },
        "id": "6yerSCp3xO-7",
        "outputId": "32770462-7a92-4b74-ae6a-dce64e0d648a"
      },
      "execution_count": null,
      "outputs": [
        {
          "output_type": "stream",
          "name": "stdout",
          "text": [
            "ingrese la tarifa (solo números uwu): 1000\n",
            "ingrese la cantidad de horas trabajadas (lo mismo pibe, pone solo números eh:) 45\n",
            "el salario es:  47500.0\n"
          ]
        }
      ]
    },
    {
      "cell_type": "markdown",
      "source": [
        "EJERCICIO 2\n",
        "\n",
        "Reescribe el programa del salario usando try y except, de modo que el programa sea capaz de gestionar entradas no numéricas con elegancia, mostrando un mensaje y saliendo del programa. A continuación se muestran dos ejecuciones del programa:"
      ],
      "metadata": {
        "id": "R3Kk-CyFtOBs"
      }
    },
    {
      "cell_type": "code",
      "source": [
        "tarifa = input(\"ingrese la tarifa (solo números pibe): \")\n",
        "horas = input(\"ingrese la cantidad de horas trabajadas (lo mismo pibe, pone solo númers eh:) \")\n",
        "try:\n",
        "  tarifa = float(tarifa)\n",
        "  horas = int(horas)\n",
        "  if horas > 40:\n",
        "    extras = horas - 40\n",
        "    salario = tarifa * 1.5 * extras + 40 * tarifa\n",
        "  else:\n",
        "    salario = tarifa * horas\n",
        "  print(\"el salario seria de:\", salario,\"$\")\n",
        "except:\n",
        "  print(\"hacelo bien mamahuevo\")"
      ],
      "metadata": {
        "colab": {
          "base_uri": "https://localhost:8080/"
        },
        "id": "JPFMam-tNxse",
        "outputId": "fecf6914-09fb-452f-eadb-f49c2d4c6d28"
      },
      "execution_count": null,
      "outputs": [
        {
          "output_type": "stream",
          "name": "stdout",
          "text": [
            "ingrese la tarifa (solo números pibe): 500\n",
            "ingrese la cantidad de horas trabajadas (lo mismo pibe, pone solo númers eh:) 5\n",
            "el salario seria de: 2500.0 $\n"
          ]
        }
      ]
    },
    {
      "cell_type": "markdown",
      "source": [
        "EJERCICIO 3\n",
        "\n",
        "Escribe un programa que solicite una puntuación entre 0.0 y 1.0. Si la puntuación está fuera de ese rango, muestra un mensaje de error. Si la puntuación está entre 0.0 y 1.0, muestra la calificación usando la tabla siguiente:\n",
        "\n",
        "PUNTUACION CALIFICACION\n",
        "\n",
        "\n",
        ">= 0.9 Sobresaliente\n",
        "\n",
        ">= 0.8 Notable\n",
        "\n",
        ">= 0.7 Bien\n",
        "\n",
        ">= 0.6 Suficiente\n",
        "\n",
        "< 0.6 Insuficiente\n",
        "\n",
        "Introduzca puntuación: 0.95 Sobresaliente\n",
        "\n",
        "Introduzca puntuación: perfecto Puntuación incorrecta\n",
        "\n",
        "Introduzca puntuación: 10.0 Puntuación incorrecta\n",
        "\n",
        "Introduzca puntuación: 0.75 Bien\n",
        "\n",
        "Introduzca puntuación: 0.5 Insuficiente\n",
        "\n",
        "Ejecuta el programa repetidamente, como se muestra arriba, para probar con varios valores de entrada diferentes.\n"
      ],
      "metadata": {
        "id": "uMzkFfZWtOjT"
      }
    },
    {
      "cell_type": "code",
      "source": [
        "\n",
        "puntuacion = input(\"ingrese la puntuacion entre 0.0 y 1.0: \"))\n",
        "try:\n",
        "  puntuacion=float(puntuacion)\n",
        " if (puntuacion)\n",
        "  elif puntuacion == 0.8:\n",
        "    print(\"calificacion notable\")\n",
        "  elif puntuacion == 0.7:\n",
        "   print(\"calificacion bien\")\n",
        "  elif puntuacion == 0.6:\n",
        "   print(\"suficiente\")\n",
        "  elif puntuacion == 0.5:\n",
        "   print(\"calificacion insuficiente\")\n",
        "  else:\n",
        "    print(\"puntuacion invalida. capo la puntuacion debe ser de 0.0 hasta 1.0 uwu.\")"
      ],
      "metadata": {
        "colab": {
          "base_uri": "https://localhost:8080/",
          "height": 132
        },
        "id": "L3ROh6mfUouD",
        "outputId": "d3c31ce3-0af5-4be3-dbe6-1ed7aabafb8c"
      },
      "execution_count": null,
      "outputs": [
        {
          "output_type": "error",
          "ename": "IndentationError",
          "evalue": "ignored",
          "traceback": [
            "\u001b[0;36m  File \u001b[0;32m\"<tokenize>\"\u001b[0;36m, line \u001b[0;32m6\u001b[0m\n\u001b[0;31m    elif puntuacion == 0.8:\u001b[0m\n\u001b[0m    ^\u001b[0m\n\u001b[0;31mIndentationError\u001b[0m\u001b[0;31m:\u001b[0m unindent does not match any outer indentation level\n"
          ]
        }
      ]
    },
    {
      "cell_type": "code",
      "source": [],
      "metadata": {
        "id": "HYsO8h2wcEg3"
      },
      "execution_count": null,
      "outputs": []
    }
  ]
}